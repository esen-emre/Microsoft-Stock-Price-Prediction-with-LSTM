{
 "cells": [
  {
   "cell_type": "markdown",
   "id": "3e7bdfdb",
   "metadata": {},
   "source": [
    "## Microsoft Stock Price Prediction 2010-2022\n",
    "\n",
    "#### Import Libraries"
   ]
  },
  {
   "cell_type": "code",
   "execution_count": 1,
   "id": "3b3f96e2",
   "metadata": {},
   "outputs": [],
   "source": [
    "import pandas as pd\n",
    "import numpy as np\n",
    "import pandas_datareader as web\n",
    "\n",
    "import seaborn as sns\n",
    "\n",
    "import matplotlib.pyplot as plt"
   ]
  },
  {
   "cell_type": "markdown",
   "id": "89041e39",
   "metadata": {},
   "source": [
    "#### Import Data"
   ]
  },
  {
   "cell_type": "code",
   "execution_count": 2,
   "id": "c966d561",
   "metadata": {},
   "outputs": [],
   "source": [
    "df = web.DataReader('MSFT', data_source='yahoo', start='2010-01-01', end='2022-12-09')"
   ]
  },
  {
   "cell_type": "code",
   "execution_count": 3,
   "id": "305184f3",
   "metadata": {},
   "outputs": [
    {
     "data": {
      "text/html": [
       "<div>\n",
       "<style scoped>\n",
       "    .dataframe tbody tr th:only-of-type {\n",
       "        vertical-align: middle;\n",
       "    }\n",
       "\n",
       "    .dataframe tbody tr th {\n",
       "        vertical-align: top;\n",
       "    }\n",
       "\n",
       "    .dataframe thead th {\n",
       "        text-align: right;\n",
       "    }\n",
       "</style>\n",
       "<table border=\"1\" class=\"dataframe\">\n",
       "  <thead>\n",
       "    <tr style=\"text-align: right;\">\n",
       "      <th></th>\n",
       "      <th>High</th>\n",
       "      <th>Low</th>\n",
       "      <th>Open</th>\n",
       "      <th>Close</th>\n",
       "      <th>Volume</th>\n",
       "      <th>Adj Close</th>\n",
       "    </tr>\n",
       "    <tr>\n",
       "      <th>Date</th>\n",
       "      <th></th>\n",
       "      <th></th>\n",
       "      <th></th>\n",
       "      <th></th>\n",
       "      <th></th>\n",
       "      <th></th>\n",
       "    </tr>\n",
       "  </thead>\n",
       "  <tbody>\n",
       "    <tr>\n",
       "      <th>2010-01-04</th>\n",
       "      <td>31.100000</td>\n",
       "      <td>30.590000</td>\n",
       "      <td>30.620001</td>\n",
       "      <td>30.950001</td>\n",
       "      <td>38409100.0</td>\n",
       "      <td>23.683069</td>\n",
       "    </tr>\n",
       "    <tr>\n",
       "      <th>2010-01-05</th>\n",
       "      <td>31.100000</td>\n",
       "      <td>30.639999</td>\n",
       "      <td>30.850000</td>\n",
       "      <td>30.959999</td>\n",
       "      <td>49749600.0</td>\n",
       "      <td>23.690720</td>\n",
       "    </tr>\n",
       "    <tr>\n",
       "      <th>2010-01-06</th>\n",
       "      <td>31.080000</td>\n",
       "      <td>30.520000</td>\n",
       "      <td>30.879999</td>\n",
       "      <td>30.770000</td>\n",
       "      <td>58182400.0</td>\n",
       "      <td>23.545334</td>\n",
       "    </tr>\n",
       "    <tr>\n",
       "      <th>2010-01-07</th>\n",
       "      <td>30.700001</td>\n",
       "      <td>30.190001</td>\n",
       "      <td>30.629999</td>\n",
       "      <td>30.450001</td>\n",
       "      <td>50559700.0</td>\n",
       "      <td>23.300468</td>\n",
       "    </tr>\n",
       "    <tr>\n",
       "      <th>2010-01-08</th>\n",
       "      <td>30.879999</td>\n",
       "      <td>30.240000</td>\n",
       "      <td>30.280001</td>\n",
       "      <td>30.660000</td>\n",
       "      <td>51197400.0</td>\n",
       "      <td>23.461161</td>\n",
       "    </tr>\n",
       "  </tbody>\n",
       "</table>\n",
       "</div>"
      ],
      "text/plain": [
       "                 High        Low       Open      Close      Volume  Adj Close\n",
       "Date                                                                         \n",
       "2010-01-04  31.100000  30.590000  30.620001  30.950001  38409100.0  23.683069\n",
       "2010-01-05  31.100000  30.639999  30.850000  30.959999  49749600.0  23.690720\n",
       "2010-01-06  31.080000  30.520000  30.879999  30.770000  58182400.0  23.545334\n",
       "2010-01-07  30.700001  30.190001  30.629999  30.450001  50559700.0  23.300468\n",
       "2010-01-08  30.879999  30.240000  30.280001  30.660000  51197400.0  23.461161"
      ]
     },
     "execution_count": 3,
     "metadata": {},
     "output_type": "execute_result"
    }
   ],
   "source": [
    "df.head()"
   ]
  },
  {
   "cell_type": "code",
   "execution_count": 4,
   "id": "af7d4d24",
   "metadata": {},
   "outputs": [
    {
     "data": {
      "text/html": [
       "<div>\n",
       "<style scoped>\n",
       "    .dataframe tbody tr th:only-of-type {\n",
       "        vertical-align: middle;\n",
       "    }\n",
       "\n",
       "    .dataframe tbody tr th {\n",
       "        vertical-align: top;\n",
       "    }\n",
       "\n",
       "    .dataframe thead th {\n",
       "        text-align: right;\n",
       "    }\n",
       "</style>\n",
       "<table border=\"1\" class=\"dataframe\">\n",
       "  <thead>\n",
       "    <tr style=\"text-align: right;\">\n",
       "      <th></th>\n",
       "      <th>High</th>\n",
       "      <th>Low</th>\n",
       "      <th>Open</th>\n",
       "      <th>Close</th>\n",
       "      <th>Volume</th>\n",
       "      <th>Adj Close</th>\n",
       "    </tr>\n",
       "    <tr>\n",
       "      <th>Date</th>\n",
       "      <th></th>\n",
       "      <th></th>\n",
       "      <th></th>\n",
       "      <th></th>\n",
       "      <th></th>\n",
       "      <th></th>\n",
       "    </tr>\n",
       "  </thead>\n",
       "  <tbody>\n",
       "    <tr>\n",
       "      <th>2012-05-09</th>\n",
       "      <td>30.830000</td>\n",
       "      <td>30.100000</td>\n",
       "      <td>30.190001</td>\n",
       "      <td>30.760000</td>\n",
       "      <td>50309300.0</td>\n",
       "      <td>24.828638</td>\n",
       "    </tr>\n",
       "    <tr>\n",
       "      <th>2020-05-15</th>\n",
       "      <td>187.059998</td>\n",
       "      <td>177.000000</td>\n",
       "      <td>179.059998</td>\n",
       "      <td>183.160004</td>\n",
       "      <td>46610400.0</td>\n",
       "      <td>178.551300</td>\n",
       "    </tr>\n",
       "    <tr>\n",
       "      <th>2015-07-13</th>\n",
       "      <td>45.619999</td>\n",
       "      <td>44.950001</td>\n",
       "      <td>44.980000</td>\n",
       "      <td>45.540001</td>\n",
       "      <td>28178300.0</td>\n",
       "      <td>40.289639</td>\n",
       "    </tr>\n",
       "    <tr>\n",
       "      <th>2014-09-02</th>\n",
       "      <td>45.459999</td>\n",
       "      <td>44.849998</td>\n",
       "      <td>45.430000</td>\n",
       "      <td>45.090000</td>\n",
       "      <td>22976800.0</td>\n",
       "      <td>39.107227</td>\n",
       "    </tr>\n",
       "    <tr>\n",
       "      <th>2018-02-06</th>\n",
       "      <td>91.480003</td>\n",
       "      <td>85.250000</td>\n",
       "      <td>86.889999</td>\n",
       "      <td>91.330002</td>\n",
       "      <td>67998600.0</td>\n",
       "      <td>86.006828</td>\n",
       "    </tr>\n",
       "  </tbody>\n",
       "</table>\n",
       "</div>"
      ],
      "text/plain": [
       "                  High         Low        Open       Close      Volume  \\\n",
       "Date                                                                     \n",
       "2012-05-09   30.830000   30.100000   30.190001   30.760000  50309300.0   \n",
       "2020-05-15  187.059998  177.000000  179.059998  183.160004  46610400.0   \n",
       "2015-07-13   45.619999   44.950001   44.980000   45.540001  28178300.0   \n",
       "2014-09-02   45.459999   44.849998   45.430000   45.090000  22976800.0   \n",
       "2018-02-06   91.480003   85.250000   86.889999   91.330002  67998600.0   \n",
       "\n",
       "             Adj Close  \n",
       "Date                    \n",
       "2012-05-09   24.828638  \n",
       "2020-05-15  178.551300  \n",
       "2015-07-13   40.289639  \n",
       "2014-09-02   39.107227  \n",
       "2018-02-06   86.006828  "
      ]
     },
     "execution_count": 4,
     "metadata": {},
     "output_type": "execute_result"
    }
   ],
   "source": [
    "df.sample(5)"
   ]
  },
  {
   "cell_type": "code",
   "execution_count": 5,
   "id": "b1020601",
   "metadata": {},
   "outputs": [
    {
     "data": {
      "text/html": [
       "<div>\n",
       "<style scoped>\n",
       "    .dataframe tbody tr th:only-of-type {\n",
       "        vertical-align: middle;\n",
       "    }\n",
       "\n",
       "    .dataframe tbody tr th {\n",
       "        vertical-align: top;\n",
       "    }\n",
       "\n",
       "    .dataframe thead th {\n",
       "        text-align: right;\n",
       "    }\n",
       "</style>\n",
       "<table border=\"1\" class=\"dataframe\">\n",
       "  <thead>\n",
       "    <tr style=\"text-align: right;\">\n",
       "      <th></th>\n",
       "      <th>High</th>\n",
       "      <th>Low</th>\n",
       "      <th>Open</th>\n",
       "      <th>Close</th>\n",
       "      <th>Volume</th>\n",
       "      <th>Adj Close</th>\n",
       "    </tr>\n",
       "    <tr>\n",
       "      <th>Date</th>\n",
       "      <th></th>\n",
       "      <th></th>\n",
       "      <th></th>\n",
       "      <th></th>\n",
       "      <th></th>\n",
       "      <th></th>\n",
       "    </tr>\n",
       "  </thead>\n",
       "  <tbody>\n",
       "    <tr>\n",
       "      <th>2010-01-04</th>\n",
       "      <td>31.100000</td>\n",
       "      <td>30.590000</td>\n",
       "      <td>30.620001</td>\n",
       "      <td>30.950001</td>\n",
       "      <td>38409100.0</td>\n",
       "      <td>23.683069</td>\n",
       "    </tr>\n",
       "    <tr>\n",
       "      <th>2010-01-05</th>\n",
       "      <td>31.100000</td>\n",
       "      <td>30.639999</td>\n",
       "      <td>30.850000</td>\n",
       "      <td>30.959999</td>\n",
       "      <td>49749600.0</td>\n",
       "      <td>23.690720</td>\n",
       "    </tr>\n",
       "    <tr>\n",
       "      <th>2010-01-06</th>\n",
       "      <td>31.080000</td>\n",
       "      <td>30.520000</td>\n",
       "      <td>30.879999</td>\n",
       "      <td>30.770000</td>\n",
       "      <td>58182400.0</td>\n",
       "      <td>23.545334</td>\n",
       "    </tr>\n",
       "    <tr>\n",
       "      <th>2010-01-07</th>\n",
       "      <td>30.700001</td>\n",
       "      <td>30.190001</td>\n",
       "      <td>30.629999</td>\n",
       "      <td>30.450001</td>\n",
       "      <td>50559700.0</td>\n",
       "      <td>23.300468</td>\n",
       "    </tr>\n",
       "    <tr>\n",
       "      <th>2010-01-08</th>\n",
       "      <td>30.879999</td>\n",
       "      <td>30.240000</td>\n",
       "      <td>30.280001</td>\n",
       "      <td>30.660000</td>\n",
       "      <td>51197400.0</td>\n",
       "      <td>23.461161</td>\n",
       "    </tr>\n",
       "  </tbody>\n",
       "</table>\n",
       "</div>"
      ],
      "text/plain": [
       "                 High        Low       Open      Close      Volume  Adj Close\n",
       "Date                                                                         \n",
       "2010-01-04  31.100000  30.590000  30.620001  30.950001  38409100.0  23.683069\n",
       "2010-01-05  31.100000  30.639999  30.850000  30.959999  49749600.0  23.690720\n",
       "2010-01-06  31.080000  30.520000  30.879999  30.770000  58182400.0  23.545334\n",
       "2010-01-07  30.700001  30.190001  30.629999  30.450001  50559700.0  23.300468\n",
       "2010-01-08  30.879999  30.240000  30.280001  30.660000  51197400.0  23.461161"
      ]
     },
     "execution_count": 5,
     "metadata": {},
     "output_type": "execute_result"
    }
   ],
   "source": [
    "df.head()"
   ]
  },
  {
   "cell_type": "markdown",
   "id": "dc5a670f",
   "metadata": {},
   "source": [
    "#### EDA - Exploratory Data Analysis"
   ]
  },
  {
   "cell_type": "code",
   "execution_count": 6,
   "id": "e24b257c",
   "metadata": {},
   "outputs": [
    {
     "name": "stdout",
     "output_type": "stream",
     "text": [
      "<class 'pandas.core.frame.DataFrame'>\n",
      "DatetimeIndex: 3258 entries, 2010-01-04 to 2022-12-09\n",
      "Data columns (total 6 columns):\n",
      " #   Column     Non-Null Count  Dtype  \n",
      "---  ------     --------------  -----  \n",
      " 0   High       3258 non-null   float64\n",
      " 1   Low        3258 non-null   float64\n",
      " 2   Open       3258 non-null   float64\n",
      " 3   Close      3258 non-null   float64\n",
      " 4   Volume     3258 non-null   float64\n",
      " 5   Adj Close  3258 non-null   float64\n",
      "dtypes: float64(6)\n",
      "memory usage: 178.2 KB\n"
     ]
    }
   ],
   "source": [
    "df.info()"
   ]
  },
  {
   "cell_type": "code",
   "execution_count": 7,
   "id": "86391b27",
   "metadata": {},
   "outputs": [
    {
     "data": {
      "text/plain": [
       "(3258, 6)"
      ]
     },
     "execution_count": 7,
     "metadata": {},
     "output_type": "execute_result"
    }
   ],
   "source": [
    "df.shape"
   ]
  },
  {
   "cell_type": "code",
   "execution_count": 8,
   "id": "da3764a2",
   "metadata": {},
   "outputs": [
    {
     "data": {
      "text/plain": [
       "High         0\n",
       "Low          0\n",
       "Open         0\n",
       "Close        0\n",
       "Volume       0\n",
       "Adj Close    0\n",
       "dtype: int64"
      ]
     },
     "execution_count": 8,
     "metadata": {},
     "output_type": "execute_result"
    }
   ],
   "source": [
    "df.isnull().sum()"
   ]
  },
  {
   "cell_type": "code",
   "execution_count": 9,
   "id": "fd81cbd6",
   "metadata": {},
   "outputs": [
    {
     "data": {
      "text/html": [
       "<div>\n",
       "<style scoped>\n",
       "    .dataframe tbody tr th:only-of-type {\n",
       "        vertical-align: middle;\n",
       "    }\n",
       "\n",
       "    .dataframe tbody tr th {\n",
       "        vertical-align: top;\n",
       "    }\n",
       "\n",
       "    .dataframe thead th {\n",
       "        text-align: right;\n",
       "    }\n",
       "</style>\n",
       "<table border=\"1\" class=\"dataframe\">\n",
       "  <thead>\n",
       "    <tr style=\"text-align: right;\">\n",
       "      <th></th>\n",
       "      <th>High</th>\n",
       "      <th>Low</th>\n",
       "      <th>Open</th>\n",
       "      <th>Close</th>\n",
       "      <th>Volume</th>\n",
       "      <th>Adj Close</th>\n",
       "    </tr>\n",
       "  </thead>\n",
       "  <tbody>\n",
       "    <tr>\n",
       "      <th>count</th>\n",
       "      <td>3258.000000</td>\n",
       "      <td>3258.000000</td>\n",
       "      <td>3258.000000</td>\n",
       "      <td>3258.000000</td>\n",
       "      <td>3.258000e+03</td>\n",
       "      <td>3258.000000</td>\n",
       "    </tr>\n",
       "    <tr>\n",
       "      <th>mean</th>\n",
       "      <td>100.454985</td>\n",
       "      <td>98.440442</td>\n",
       "      <td>99.470691</td>\n",
       "      <td>99.496983</td>\n",
       "      <td>3.804161e+07</td>\n",
       "      <td>94.690682</td>\n",
       "    </tr>\n",
       "    <tr>\n",
       "      <th>std</th>\n",
       "      <td>88.874731</td>\n",
       "      <td>86.908640</td>\n",
       "      <td>87.925893</td>\n",
       "      <td>87.936173</td>\n",
       "      <td>2.148453e+07</td>\n",
       "      <td>88.931219</td>\n",
       "    </tr>\n",
       "    <tr>\n",
       "      <th>min</th>\n",
       "      <td>23.320000</td>\n",
       "      <td>22.730000</td>\n",
       "      <td>23.090000</td>\n",
       "      <td>23.010000</td>\n",
       "      <td>7.425600e+06</td>\n",
       "      <td>17.769503</td>\n",
       "    </tr>\n",
       "    <tr>\n",
       "      <th>25%</th>\n",
       "      <td>32.000000</td>\n",
       "      <td>31.540001</td>\n",
       "      <td>31.765000</td>\n",
       "      <td>31.792500</td>\n",
       "      <td>2.390122e+07</td>\n",
       "      <td>25.900165</td>\n",
       "    </tr>\n",
       "    <tr>\n",
       "      <th>50%</th>\n",
       "      <td>55.890001</td>\n",
       "      <td>54.985001</td>\n",
       "      <td>55.379999</td>\n",
       "      <td>55.395000</td>\n",
       "      <td>3.233470e+07</td>\n",
       "      <td>49.924141</td>\n",
       "    </tr>\n",
       "    <tr>\n",
       "      <th>75%</th>\n",
       "      <td>139.730000</td>\n",
       "      <td>136.959999</td>\n",
       "      <td>138.887497</td>\n",
       "      <td>138.407501</td>\n",
       "      <td>4.682415e+07</td>\n",
       "      <td>133.880955</td>\n",
       "    </tr>\n",
       "    <tr>\n",
       "      <th>max</th>\n",
       "      <td>349.670013</td>\n",
       "      <td>342.200012</td>\n",
       "      <td>344.619995</td>\n",
       "      <td>343.109985</td>\n",
       "      <td>3.193179e+08</td>\n",
       "      <td>339.924835</td>\n",
       "    </tr>\n",
       "  </tbody>\n",
       "</table>\n",
       "</div>"
      ],
      "text/plain": [
       "              High          Low         Open        Close        Volume  \\\n",
       "count  3258.000000  3258.000000  3258.000000  3258.000000  3.258000e+03   \n",
       "mean    100.454985    98.440442    99.470691    99.496983  3.804161e+07   \n",
       "std      88.874731    86.908640    87.925893    87.936173  2.148453e+07   \n",
       "min      23.320000    22.730000    23.090000    23.010000  7.425600e+06   \n",
       "25%      32.000000    31.540001    31.765000    31.792500  2.390122e+07   \n",
       "50%      55.890001    54.985001    55.379999    55.395000  3.233470e+07   \n",
       "75%     139.730000   136.959999   138.887497   138.407501  4.682415e+07   \n",
       "max     349.670013   342.200012   344.619995   343.109985  3.193179e+08   \n",
       "\n",
       "         Adj Close  \n",
       "count  3258.000000  \n",
       "mean     94.690682  \n",
       "std      88.931219  \n",
       "min      17.769503  \n",
       "25%      25.900165  \n",
       "50%      49.924141  \n",
       "75%     133.880955  \n",
       "max     339.924835  "
      ]
     },
     "execution_count": 9,
     "metadata": {},
     "output_type": "execute_result"
    }
   ],
   "source": [
    "df.describe()"
   ]
  },
  {
   "cell_type": "code",
   "execution_count": 10,
   "id": "c7b48c3b",
   "metadata": {},
   "outputs": [
    {
     "data": {
      "image/png": "[encoded data removed]",
      "text/plain": [
       "<Figure size 2000x800 with 1 Axes>"
      ]
     },
     "metadata": {},
     "output_type": "display_data"
    }
   ],
   "source": [
    "plt.figure(figsize=(20,8))\n",
    "plt.title('Close Price History')\n",
    "plt.plot(df['Close'])\n",
    "plt.xlabel('Date', fontsize=18)\n",
    "plt.ylabel('Close Price USD', fontsize=18)\n",
    "plt.show()"
   ]
  },
  {
   "cell_type": "markdown",
   "id": "d2d1a9c6",
   "metadata": {},
   "source": [
    "#### Prediciton and selecting the Algorithm"
   ]
  },
  {
   "cell_type": "code",
   "execution_count": 11,
   "id": "88d2d623",
   "metadata": {},
   "outputs": [],
   "source": [
    "def regression_funct(x,y):\n",
    "    from sklearn.linear_model import LinearRegression\n",
    "    from sklearn.linear_model import Ridge,Lasso\n",
    "    from sklearn.linear_model import ElasticNet\n",
    "    from sklearn.tree import ExtraTreeRegressor\n",
    "    from sklearn.ensemble import GradientBoostingRegressor\n",
    "    from sklearn.neighbors import KNeighborsRegressor\n",
    "    \n",
    "    from sklearn.model_selection import train_test_split\n",
    "\n",
    "    from sklearn.metrics import mean_squared_error,r2_score,mean_absolute_error\n",
    "    \n",
    "    \n",
    "    x_train,x_test,y_train,y_test=train_test_split(x,y,test_size=0.2,random_state=42)\n",
    "\n",
    "    L=LinearRegression()\n",
    "    R=Ridge()\n",
    "    Lass=Lasso()\n",
    "    E=ElasticNet()\n",
    "    ExTree=ExtraTreeRegressor()\n",
    "    GBR=GradientBoostingRegressor()\n",
    "    KN=KNeighborsRegressor()\n",
    "    \n",
    "    algos=[L,R,Lass,E,ExTree,GBR,KN]\n",
    "    algo_names=['LinearRegression','Ridge','Lasso','ElasticNet','ExtraTreeRegressor','GradientBoostingRegressor','KNeighborsRegressor']\n",
    "    r_squared=[]\n",
    "    rmse=[]\n",
    "    mae=[]\n",
    "    \n",
    "    result=pd.DataFrame(columns=['R_Squared','RMSE','MAE'],index=algo_names)\n",
    "    \n",
    "    for item in algos:\n",
    "        item.fit(x_train,y_train)\n",
    "        item.predict(x_test)\n",
    "        r_squared.append(r2_score(y_test,item.predict(x_test)))\n",
    "        rmse.append((mean_squared_error(y_test,item.predict(x_test)))**.5)\n",
    "        mae.append(mean_absolute_error(y_test,item.predict(x_test)))\n",
    "        \n",
    "    result.R_Squared=r_squared\n",
    "    result.RMSE=rmse\n",
    "    result.MAE=mae\n",
    "        \n",
    "    return result.sort_values('R_Squared',ascending=False)"
   ]
  },
  {
   "cell_type": "code",
   "execution_count": 12,
   "id": "1b88685a",
   "metadata": {},
   "outputs": [],
   "source": [
    "x = df.drop('Close', axis = 1)\n",
    "y = df[['Close']]"
   ]
  },
  {
   "cell_type": "code",
   "execution_count": 13,
   "id": "59e26663",
   "metadata": {},
   "outputs": [
    {
     "data": {
      "text/plain": [
       "((3258, 5), (3258, 1))"
      ]
     },
     "execution_count": 13,
     "metadata": {},
     "output_type": "execute_result"
    }
   ],
   "source": [
    "x.shape, y.shape"
   ]
  },
  {
   "cell_type": "code",
   "execution_count": 14,
   "id": "f8d62360",
   "metadata": {},
   "outputs": [
    {
     "name": "stderr",
     "output_type": "stream",
     "text": [
      "C:\\ProgramData\\Anaconda3\\lib\\site-packages\\sklearn\\linear_model\\_coordinate_descent.py:647: ConvergenceWarning: Objective did not converge. You might want to increase the number of iterations, check the scale of the features or consider increasing regularisation. Duality gap: 4.352e+03, tolerance: 2.021e+03\n",
      "  model = cd_fast.enet_coordinate_descent(\n",
      "C:\\ProgramData\\Anaconda3\\lib\\site-packages\\sklearn\\linear_model\\_coordinate_descent.py:647: ConvergenceWarning: Objective did not converge. You might want to increase the number of iterations, check the scale of the features or consider increasing regularisation. Duality gap: 3.338e+03, tolerance: 2.021e+03\n",
      "  model = cd_fast.enet_coordinate_descent(\n",
      "C:\\ProgramData\\Anaconda3\\lib\\site-packages\\sklearn\\ensemble\\_gb.py:494: DataConversionWarning: A column-vector y was passed when a 1d array was expected. Please change the shape of y to (n_samples, ), for example using ravel().\n",
      "  y = column_or_1d(y, warn=True)\n"
     ]
    },
    {
     "data": {
      "text/html": [
       "<div>\n",
       "<style scoped>\n",
       "    .dataframe tbody tr th:only-of-type {\n",
       "        vertical-align: middle;\n",
       "    }\n",
       "\n",
       "    .dataframe tbody tr th {\n",
       "        vertical-align: top;\n",
       "    }\n",
       "\n",
       "    .dataframe thead th {\n",
       "        text-align: right;\n",
       "    }\n",
       "</style>\n",
       "<table border=\"1\" class=\"dataframe\">\n",
       "  <thead>\n",
       "    <tr style=\"text-align: right;\">\n",
       "      <th></th>\n",
       "      <th>R_Squared</th>\n",
       "      <th>RMSE</th>\n",
       "      <th>MAE</th>\n",
       "    </tr>\n",
       "  </thead>\n",
       "  <tbody>\n",
       "    <tr>\n",
       "      <th>LinearRegression</th>\n",
       "      <td>0.999962</td>\n",
       "      <td>0.535148</td>\n",
       "      <td>0.360961</td>\n",
       "    </tr>\n",
       "    <tr>\n",
       "      <th>Ridge</th>\n",
       "      <td>0.999962</td>\n",
       "      <td>0.535154</td>\n",
       "      <td>0.360972</td>\n",
       "    </tr>\n",
       "    <tr>\n",
       "      <th>GradientBoostingRegressor</th>\n",
       "      <td>0.999929</td>\n",
       "      <td>0.732600</td>\n",
       "      <td>0.471803</td>\n",
       "    </tr>\n",
       "    <tr>\n",
       "      <th>ElasticNet</th>\n",
       "      <td>0.999832</td>\n",
       "      <td>1.128367</td>\n",
       "      <td>0.558849</td>\n",
       "    </tr>\n",
       "    <tr>\n",
       "      <th>ExtraTreeRegressor</th>\n",
       "      <td>0.999828</td>\n",
       "      <td>1.143771</td>\n",
       "      <td>0.487132</td>\n",
       "    </tr>\n",
       "    <tr>\n",
       "      <th>Lasso</th>\n",
       "      <td>0.999817</td>\n",
       "      <td>1.178059</td>\n",
       "      <td>0.583527</td>\n",
       "    </tr>\n",
       "    <tr>\n",
       "      <th>KNeighborsRegressor</th>\n",
       "      <td>-0.052090</td>\n",
       "      <td>89.355551</td>\n",
       "      <td>66.922300</td>\n",
       "    </tr>\n",
       "  </tbody>\n",
       "</table>\n",
       "</div>"
      ],
      "text/plain": [
       "                           R_Squared       RMSE        MAE\n",
       "LinearRegression            0.999962   0.535148   0.360961\n",
       "Ridge                       0.999962   0.535154   0.360972\n",
       "GradientBoostingRegressor   0.999929   0.732600   0.471803\n",
       "ElasticNet                  0.999832   1.128367   0.558849\n",
       "ExtraTreeRegressor          0.999828   1.143771   0.487132\n",
       "Lasso                       0.999817   1.178059   0.583527\n",
       "KNeighborsRegressor        -0.052090  89.355551  66.922300"
      ]
     },
     "execution_count": 14,
     "metadata": {},
     "output_type": "execute_result"
    }
   ],
   "source": [
    "regression_funct(x,y)"
   ]
  },
  {
   "cell_type": "markdown",
   "id": "b5d97416",
   "metadata": {},
   "source": [
    "##### New dataframe with 'Close' column"
   ]
  },
  {
   "cell_type": "code",
   "execution_count": 15,
   "id": "fb2a6cae",
   "metadata": {},
   "outputs": [],
   "source": [
    "data = df[['Close']]"
   ]
  },
  {
   "cell_type": "code",
   "execution_count": 16,
   "id": "006a5019",
   "metadata": {},
   "outputs": [
    {
     "data": {
      "text/plain": [
       "(3258, 1)"
      ]
     },
     "execution_count": 16,
     "metadata": {},
     "output_type": "execute_result"
    }
   ],
   "source": [
    "data.shape"
   ]
  },
  {
   "cell_type": "code",
   "execution_count": 17,
   "id": "98b9065f",
   "metadata": {},
   "outputs": [
    {
     "data": {
      "text/html": [
       "<div>\n",
       "<style scoped>\n",
       "    .dataframe tbody tr th:only-of-type {\n",
       "        vertical-align: middle;\n",
       "    }\n",
       "\n",
       "    .dataframe tbody tr th {\n",
       "        vertical-align: top;\n",
       "    }\n",
       "\n",
       "    .dataframe thead th {\n",
       "        text-align: right;\n",
       "    }\n",
       "</style>\n",
       "<table border=\"1\" class=\"dataframe\">\n",
       "  <thead>\n",
       "    <tr style=\"text-align: right;\">\n",
       "      <th></th>\n",
       "      <th>Close</th>\n",
       "    </tr>\n",
       "    <tr>\n",
       "      <th>Date</th>\n",
       "      <th></th>\n",
       "    </tr>\n",
       "  </thead>\n",
       "  <tbody>\n",
       "    <tr>\n",
       "      <th>2010-01-04</th>\n",
       "      <td>30.950001</td>\n",
       "    </tr>\n",
       "    <tr>\n",
       "      <th>2010-01-05</th>\n",
       "      <td>30.959999</td>\n",
       "    </tr>\n",
       "    <tr>\n",
       "      <th>2010-01-06</th>\n",
       "      <td>30.770000</td>\n",
       "    </tr>\n",
       "    <tr>\n",
       "      <th>2010-01-07</th>\n",
       "      <td>30.450001</td>\n",
       "    </tr>\n",
       "    <tr>\n",
       "      <th>2010-01-08</th>\n",
       "      <td>30.660000</td>\n",
       "    </tr>\n",
       "  </tbody>\n",
       "</table>\n",
       "</div>"
      ],
      "text/plain": [
       "                Close\n",
       "Date                 \n",
       "2010-01-04  30.950001\n",
       "2010-01-05  30.959999\n",
       "2010-01-06  30.770000\n",
       "2010-01-07  30.450001\n",
       "2010-01-08  30.660000"
      ]
     },
     "execution_count": 17,
     "metadata": {},
     "output_type": "execute_result"
    }
   ],
   "source": [
    "data.head()"
   ]
  },
  {
   "cell_type": "code",
   "execution_count": 18,
   "id": "f78a2099",
   "metadata": {},
   "outputs": [],
   "source": [
    "#Convert the dataframe to a numpy array\n",
    "dataset = data.values\n",
    "\n"
   ]
  },
  {
   "cell_type": "markdown",
   "id": "5d0fd75c",
   "metadata": {},
   "source": [
    "#### Scale data"
   ]
  },
  {
   "cell_type": "code",
   "execution_count": 19,
   "id": "46717e6c",
   "metadata": {},
   "outputs": [],
   "source": [
    "from sklearn.preprocessing import MinMaxScaler"
   ]
  },
  {
   "cell_type": "code",
   "execution_count": 20,
   "id": "d8a13b76",
   "metadata": {},
   "outputs": [],
   "source": [
    "scaler = MinMaxScaler(feature_range=(0,1))\n",
    "scaled_data = scaler.fit_transform(dataset)"
   ]
  },
  {
   "cell_type": "code",
   "execution_count": 21,
   "id": "62b2c5d2",
   "metadata": {},
   "outputs": [
    {
     "data": {
      "text/plain": [
       "array([[0.02480475],\n",
       "       [0.02483599],\n",
       "       [0.02424243],\n",
       "       ...,\n",
       "       [0.69153391],\n",
       "       [0.7009997 ],\n",
       "       [0.69481415]])"
      ]
     },
     "execution_count": 21,
     "metadata": {},
     "output_type": "execute_result"
    }
   ],
   "source": [
    "scaled_data"
   ]
  },
  {
   "cell_type": "markdown",
   "id": "6c1f1f68",
   "metadata": {},
   "source": [
    "#### Create the training data set"
   ]
  },
  {
   "cell_type": "code",
   "execution_count": 22,
   "id": "0f583bc2",
   "metadata": {},
   "outputs": [
    {
     "data": {
      "text/plain": [
       "(3258, 1)"
      ]
     },
     "execution_count": 22,
     "metadata": {},
     "output_type": "execute_result"
    }
   ],
   "source": [
    "scaled_data.shape"
   ]
  },
  {
   "cell_type": "code",
   "execution_count": 23,
   "id": "54f8ca43",
   "metadata": {},
   "outputs": [],
   "source": [
    "train_number = scaled_data.shape[0]*0.8"
   ]
  },
  {
   "cell_type": "code",
   "execution_count": 24,
   "id": "a4cc1871",
   "metadata": {},
   "outputs": [
    {
     "data": {
      "text/plain": [
       "2606.4"
      ]
     },
     "execution_count": 24,
     "metadata": {},
     "output_type": "execute_result"
    }
   ],
   "source": [
    "train_number"
   ]
  },
  {
   "cell_type": "code",
   "execution_count": 25,
   "id": "3804bcac",
   "metadata": {},
   "outputs": [],
   "source": [
    "train_data = scaled_data[0:2607, :]"
   ]
  },
  {
   "cell_type": "code",
   "execution_count": 26,
   "id": "46aff06c",
   "metadata": {},
   "outputs": [
    {
     "name": "stdout",
     "output_type": "stream",
     "text": [
      "[array([0.02480475, 0.02483599, 0.02424243, 0.02324274, 0.02389878,\n",
      "       0.02268041, 0.02205561, 0.02293034, 0.02483599, 0.02452359,\n",
      "       0.02527335, 0.0236801 , 0.02186817, 0.01858794, 0.01971259,\n",
      "       0.02027491, 0.020806  , 0.01921275, 0.0161512 , 0.01686973,\n",
      "       0.01702593, 0.01755701, 0.01508904, 0.01565136, 0.01471415,\n",
      "       0.01562012, 0.01555764, 0.01596376, 0.0153702 , 0.01668229,\n",
      "       0.01743205, 0.01861918, 0.01799438, 0.01786941, 0.01661981,\n",
      "       0.01755701, 0.01746329, 0.01768197, 0.01877538, 0.01702593,\n",
      "       0.01702593, 0.01755701, 0.01743205, 0.01755701, 0.0180881 ,\n",
      "       0.01861918, 0.01927523, 0.01955639, 0.01961887, 0.01986879,\n",
      "       0.02068103, 0.02061856, 0.02055608, 0.02058732, 0.02146204,\n",
      "       0.02074352, 0.02186817, 0.02077476, 0.02055608, 0.0211184 ])]\n",
      "[0.019618872160330314]\n",
      "\n",
      "[array([0.02480475, 0.02483599, 0.02424243, 0.02324274, 0.02389878,\n",
      "       0.02268041, 0.02205561, 0.02293034, 0.02483599, 0.02452359,\n",
      "       0.02527335, 0.0236801 , 0.02186817, 0.01858794, 0.01971259,\n",
      "       0.02027491, 0.020806  , 0.01921275, 0.0161512 , 0.01686973,\n",
      "       0.01702593, 0.01755701, 0.01508904, 0.01565136, 0.01471415,\n",
      "       0.01562012, 0.01555764, 0.01596376, 0.0153702 , 0.01668229,\n",
      "       0.01743205, 0.01861918, 0.01799438, 0.01786941, 0.01661981,\n",
      "       0.01755701, 0.01746329, 0.01768197, 0.01877538, 0.01702593,\n",
      "       0.01702593, 0.01755701, 0.01743205, 0.01755701, 0.0180881 ,\n",
      "       0.01861918, 0.01927523, 0.01955639, 0.01961887, 0.01986879,\n",
      "       0.02068103, 0.02061856, 0.02055608, 0.02058732, 0.02146204,\n",
      "       0.02074352, 0.02186817, 0.02077476, 0.02055608, 0.0211184 ]), array([0.02483599, 0.02424243, 0.02324274, 0.02389878, 0.02268041,\n",
      "       0.02205561, 0.02293034, 0.02483599, 0.02452359, 0.02527335,\n",
      "       0.0236801 , 0.02186817, 0.01858794, 0.01971259, 0.02027491,\n",
      "       0.020806  , 0.01921275, 0.0161512 , 0.01686973, 0.01702593,\n",
      "       0.01755701, 0.01508904, 0.01565136, 0.01471415, 0.01562012,\n",
      "       0.01555764, 0.01596376, 0.0153702 , 0.01668229, 0.01743205,\n",
      "       0.01861918, 0.01799438, 0.01786941, 0.01661981, 0.01755701,\n",
      "       0.01746329, 0.01768197, 0.01877538, 0.01702593, 0.01702593,\n",
      "       0.01755701, 0.01743205, 0.01755701, 0.0180881 , 0.01861918,\n",
      "       0.01927523, 0.01955639, 0.01961887, 0.01986879, 0.02068103,\n",
      "       0.02061856, 0.02055608, 0.02058732, 0.02146204, 0.02074352,\n",
      "       0.02186817, 0.02077476, 0.02055608, 0.0211184 , 0.01961887])]\n",
      "[0.019618872160330314, 0.01921274571810193]\n",
      "\n"
     ]
    }
   ],
   "source": [
    "#split data into x_train and y_train datasets\n",
    "x_train = []\n",
    "y_train = []\n",
    "\n",
    "for i in range (60, len(train_data)):\n",
    "    x_train.append(train_data[i-60:i, 0])\n",
    "    y_train.append(train_data[i, 0])\n",
    "    if i<= 61:\n",
    "        print(x_train)\n",
    "        print(y_train)\n",
    "        print()"
   ]
  },
  {
   "cell_type": "code",
   "execution_count": 27,
   "id": "0284d2a3",
   "metadata": {},
   "outputs": [],
   "source": [
    "# Convert x_train and y_train to numpy arrays\n",
    "x_train, y_train = np.array(x_train), np.array(y_train)"
   ]
  },
  {
   "cell_type": "code",
   "execution_count": 28,
   "id": "1b349613",
   "metadata": {},
   "outputs": [],
   "source": [
    "# Reshape the data\n",
    "x_train = np.reshape(x_train, (x_train.shape[0], x_train.shape[1], 1))"
   ]
  },
  {
   "cell_type": "code",
   "execution_count": 29,
   "id": "3f84ebe2",
   "metadata": {},
   "outputs": [
    {
     "data": {
      "text/plain": [
       "(2547, 60, 1)"
      ]
     },
     "execution_count": 29,
     "metadata": {},
     "output_type": "execute_result"
    }
   ],
   "source": [
    "x_train.shape"
   ]
  },
  {
   "cell_type": "code",
   "execution_count": 30,
   "id": "fc04289c",
   "metadata": {},
   "outputs": [],
   "source": [
    "from keras.models import Sequential\n",
    "from keras.layers import Dense, LSTM"
   ]
  },
  {
   "cell_type": "code",
   "execution_count": 31,
   "id": "4cbd173d",
   "metadata": {},
   "outputs": [],
   "source": [
    "#Build the LSTM model\n",
    "model = Sequential()\n",
    "model.add(LSTM(50, return_sequences = True,input_shape = (x_train.shape[1], 1)))\n",
    "model.add(LSTM(50, return_sequences = False))\n",
    "model.add(Dense(25))\n",
    "model.add(Dense(1))"
   ]
  },
  {
   "cell_type": "code",
   "execution_count": 32,
   "id": "e5fdf471",
   "metadata": {},
   "outputs": [],
   "source": [
    "#Compile model\n",
    "model.compile(optimizer='adam', loss='mean_squared_error')"
   ]
  },
  {
   "cell_type": "code",
   "execution_count": 33,
   "id": "a24173a5",
   "metadata": {},
   "outputs": [
    {
     "name": "stdout",
     "output_type": "stream",
     "text": [
      "2547/2547 [==============================] - 119s 44ms/step - loss: 2.7632e-04\n"
     ]
    },
    {
     "data": {
      "text/plain": [
       "<keras.callbacks.History at 0x15e33b4cc40>"
      ]
     },
     "execution_count": 33,
     "metadata": {},
     "output_type": "execute_result"
    }
   ],
   "source": [
    "#Train model\n",
    "model.fit(x_train, y_train, batch_size=1, epochs=1)\n"
   ]
  },
  {
   "cell_type": "code",
   "execution_count": 34,
   "id": "40ebd398",
   "metadata": {},
   "outputs": [],
   "source": [
    "# Create test data\n",
    "test_data = scaled_data[2607 -60: , :]\n",
    "# Create x\n",
    "x_test = []\n",
    "y_test = dataset[2607:,:]\n",
    "for i in range(60, len(test_data)):\n",
    "    x_test.append(test_data[i-60: i, 0])"
   ]
  },
  {
   "cell_type": "code",
   "execution_count": 35,
   "id": "b6635abe",
   "metadata": {},
   "outputs": [],
   "source": [
    "x_test = np.array(x_test)"
   ]
  },
  {
   "cell_type": "code",
   "execution_count": 36,
   "id": "216308b1",
   "metadata": {},
   "outputs": [],
   "source": [
    "x_test = np.reshape(x_test, (x_test.shape[0], x_test.shape[1],1))"
   ]
  },
  {
   "cell_type": "code",
   "execution_count": 37,
   "id": "a6d9f2d1",
   "metadata": {},
   "outputs": [
    {
     "name": "stdout",
     "output_type": "stream",
     "text": [
      "21/21 [==============================] - 3s 35ms/step\n"
     ]
    }
   ],
   "source": [
    "#Get models predicted price\n",
    "predictions = model.predict(x_test)\n",
    "predictions = scaler.inverse_transform(predictions)"
   ]
  },
  {
   "cell_type": "code",
   "execution_count": 38,
   "id": "eb706b97",
   "metadata": {},
   "outputs": [
    {
     "data": {
      "text/plain": [
       "16.21741207843552"
      ]
     },
     "execution_count": 38,
     "metadata": {},
     "output_type": "execute_result"
    }
   ],
   "source": [
    "#Get RMSE\n",
    "rmse = np.sqrt(np.mean(predictions - y_test)**2)\n",
    "rmse"
   ]
  },
  {
   "cell_type": "code",
   "execution_count": 39,
   "id": "e1fa1a6d",
   "metadata": {},
   "outputs": [
    {
     "name": "stderr",
     "output_type": "stream",
     "text": [
      "C:\\Users\\a03121\\AppData\\Local\\Temp\\ipykernel_25928\\3629041768.py:4: SettingWithCopyWarning: \n",
      "A value is trying to be set on a copy of a slice from a DataFrame.\n",
      "Try using .loc[row_indexer,col_indexer] = value instead\n",
      "\n",
      "See the caveats in the documentation: https://pandas.pydata.org/pandas-docs/stable/user_guide/indexing.html#returning-a-view-versus-a-copy\n",
      "  valid['Predictions'] = predictions\n"
     ]
    },
    {
     "data": {
      "image/png": "[encoded data removed]",
      "text/plain": [
       "<Figure size 2000x800 with 1 Axes>"
      ]
     },
     "metadata": {},
     "output_type": "display_data"
    }
   ],
   "source": [
    "# plot data\n",
    "train = data[:2607]\n",
    "valid = data[2607:]\n",
    "valid['Predictions'] = predictions\n",
    "\n",
    "# Visualization\n",
    "\n",
    "plt.figure(figsize=(20,8))\n",
    "plt.title('Model')\n",
    "plt.xlabel('Date')\n",
    "plt.ylabel('Close Price USD')\n",
    "plt.plot(train['Close'])\n",
    "plt.plot(valid[['Close','Predictions']])\n",
    "plt.legend(['Train', 'Validation', 'Predictions'], loc='lower right')\n",
    "plt.show()"
   ]
  },
  {
   "cell_type": "code",
   "execution_count": 40,
   "id": "9bd43050",
   "metadata": {},
   "outputs": [
    {
     "data": {
      "text/html": [
       "<div>\n",
       "<style scoped>\n",
       "    .dataframe tbody tr th:only-of-type {\n",
       "        vertical-align: middle;\n",
       "    }\n",
       "\n",
       "    .dataframe tbody tr th {\n",
       "        vertical-align: top;\n",
       "    }\n",
       "\n",
       "    .dataframe thead th {\n",
       "        text-align: right;\n",
       "    }\n",
       "</style>\n",
       "<table border=\"1\" class=\"dataframe\">\n",
       "  <thead>\n",
       "    <tr style=\"text-align: right;\">\n",
       "      <th></th>\n",
       "      <th>Close</th>\n",
       "      <th>Predictions</th>\n",
       "    </tr>\n",
       "    <tr>\n",
       "      <th>Date</th>\n",
       "      <th></th>\n",
       "      <th></th>\n",
       "    </tr>\n",
       "  </thead>\n",
       "  <tbody>\n",
       "    <tr>\n",
       "      <th>2020-05-13</th>\n",
       "      <td>179.750000</td>\n",
       "      <td>174.014526</td>\n",
       "    </tr>\n",
       "    <tr>\n",
       "      <th>2020-05-14</th>\n",
       "      <td>180.529999</td>\n",
       "      <td>174.096573</td>\n",
       "    </tr>\n",
       "    <tr>\n",
       "      <th>2020-05-15</th>\n",
       "      <td>183.160004</td>\n",
       "      <td>173.973175</td>\n",
       "    </tr>\n",
       "    <tr>\n",
       "      <th>2020-05-18</th>\n",
       "      <td>184.910004</td>\n",
       "      <td>174.048035</td>\n",
       "    </tr>\n",
       "    <tr>\n",
       "      <th>2020-05-19</th>\n",
       "      <td>183.630005</td>\n",
       "      <td>174.385696</td>\n",
       "    </tr>\n",
       "    <tr>\n",
       "      <th>...</th>\n",
       "      <td>...</td>\n",
       "      <td>...</td>\n",
       "    </tr>\n",
       "    <tr>\n",
       "      <th>2022-12-05</th>\n",
       "      <td>250.199997</td>\n",
       "      <td>234.033829</td>\n",
       "    </tr>\n",
       "    <tr>\n",
       "      <th>2022-12-06</th>\n",
       "      <td>245.119995</td>\n",
       "      <td>234.908630</td>\n",
       "    </tr>\n",
       "    <tr>\n",
       "      <th>2022-12-07</th>\n",
       "      <td>244.369995</td>\n",
       "      <td>234.827927</td>\n",
       "    </tr>\n",
       "    <tr>\n",
       "      <th>2022-12-08</th>\n",
       "      <td>247.399994</td>\n",
       "      <td>234.271515</td>\n",
       "    </tr>\n",
       "    <tr>\n",
       "      <th>2022-12-09</th>\n",
       "      <td>245.419998</td>\n",
       "      <td>233.902313</td>\n",
       "    </tr>\n",
       "  </tbody>\n",
       "</table>\n",
       "<p>651 rows × 2 columns</p>\n",
       "</div>"
      ],
      "text/plain": [
       "                 Close  Predictions\n",
       "Date                               \n",
       "2020-05-13  179.750000   174.014526\n",
       "2020-05-14  180.529999   174.096573\n",
       "2020-05-15  183.160004   173.973175\n",
       "2020-05-18  184.910004   174.048035\n",
       "2020-05-19  183.630005   174.385696\n",
       "...                ...          ...\n",
       "2022-12-05  250.199997   234.033829\n",
       "2022-12-06  245.119995   234.908630\n",
       "2022-12-07  244.369995   234.827927\n",
       "2022-12-08  247.399994   234.271515\n",
       "2022-12-09  245.419998   233.902313\n",
       "\n",
       "[651 rows x 2 columns]"
      ]
     },
     "execution_count": 40,
     "metadata": {},
     "output_type": "execute_result"
    }
   ],
   "source": [
    "#show valid and predicted prices\n",
    "valid"
   ]
  }
 ],
 "metadata": {
  "kernelspec": {
   "display_name": "Python 3 (ipykernel)",
   "language": "python",
   "name": "python3"
  },
  "language_info": {
   "codemirror_mode": {
    "name": "ipython",
    "version": 3
   },
   "file_extension": ".py",
   "mimetype": "text/x-python",
   "name": "python",
   "nbconvert_exporter": "python",
   "pygments_lexer": "ipython3",
   "version": "3.9.13"
  }
 },
 "nbformat": 4,
 "nbformat_minor": 5
}
